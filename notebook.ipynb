{
  "metadata": {
    "language_info": {
      "codemirror_mode": {
        "name": "python",
        "version": 3
      },
      "file_extension": ".py",
      "mimetype": "text/x-python",
      "name": "python",
      "nbconvert_exporter": "python",
      "pygments_lexer": "ipython3",
      "version": "3.8"
    },
    "kernelspec": {
      "name": "python",
      "display_name": "Python (Pyodide)",
      "language": "python"
    }
  },
  "nbformat_minor": 4,
  "nbformat": 4,
  "cells": [
    {
      "cell_type": "markdown",
      "source": "# Q1. What is the Filter method in feature selection, and how does it work?",
      "metadata": {}
    },
    {
      "cell_type": "code",
      "source": "\nThe filter method in feature selection assesses the relevance of individual features to the target variable independently. It works by assigning a score to each feature based on statistical or correlation metrics (e.g., chi-squared, mutual information, or correlation). Features are ranked by their scores, and the top-ranked features are selected for the machine learning model. It's a computationally efficient but less sophisticated method that doesn't consider feature interactions.",
      "metadata": {},
      "execution_count": null,
      "outputs": []
    },
    {
      "cell_type": "markdown",
      "source": "# How does the Wrapper method differ from the Filter method in feature selection?",
      "metadata": {}
    },
    {
      "cell_type": "code",
      "source": "Wrapper methods consider feature subsets by training a machine learning model and evaluating performance, taking into account feature interactions. Filter methods evaluate individual features independently using statistical or correlation metrics, without training a model and considering feature interactions. Wrapper methods are more computationally intensive but can optimize model performance, while filter methods are faster but may not capture feature interactions.",
      "metadata": {},
      "execution_count": null,
      "outputs": []
    },
    {
      "cell_type": "markdown",
      "source": "# What are some drawbacks of using the Filter method for feature selection?",
      "metadata": {}
    },
    {
      "cell_type": "code",
      "source": "Lack of Feature Interaction Consideration: Filter methods do not account for feature interactions, potentially missing important relationships between features.",
      "metadata": {},
      "execution_count": null,
      "outputs": []
    },
    {
      "cell_type": "markdown",
      "source": "# In which situations would you prefer using the Filter method over the Wrapper method for feature selection?",
      "metadata": {}
    },
    {
      "cell_type": "code",
      "source": "Large Datasets: When dealing with large datasets with a high number of features, filter methods are computationally efficient and can quickly reduce the feature space. \n\nUnivariate Analysis: When the relationships between individual features and the target variable are relatively straightforward, filter methods can be effective.\n\nIndependence of Features: When the features are known to be largely independent, and there are no strong feature interactions, filter methods can provide a good starting point.",
      "metadata": {},
      "execution_count": null,
      "outputs": []
    },
    {
      "cell_type": "code",
      "source": "",
      "metadata": {},
      "execution_count": null,
      "outputs": []
    },
    {
      "cell_type": "code",
      "source": "",
      "metadata": {},
      "execution_count": null,
      "outputs": []
    }
  ]
}