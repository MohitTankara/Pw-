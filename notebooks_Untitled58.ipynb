{
  "metadata": {
    "widgets": {
      "application/vnd.jupyter.widget-state+json": {
        "version_major": 2,
        "version_minor": 0,
        "state": {}
      }
    },
    "language_info": {
      "name": ""
    },
    "kernelspec": {
      "name": "python",
      "display_name": "Python (Pyodide)",
      "language": "python"
    }
  },
  "nbformat_minor": 4,
  "nbformat": 4,
  "cells": [
    {
      "cell_type": "markdown",
      "source": "# Q - 1 How do you comment code in Python? What are the different types of comments? ",
      "metadata": {}
    },
    {
      "cell_type": "code",
      "source": "\nIn Python, you can comment your code in two main ways:\n\nSingle-Line Comments:\nUse the hash symbol (#) to add comments to a single line of code. Anything after the # is treated as a comment. \n\n\nMulti-Line Comments (Block Comments):\nPython does not have a dedicated syntax for multi-line comments. Instead, you can use triple-quoted strings (single or double quotes) for multi-line comments or documentation strings (docstrings) for functions, classes, and modules.",
      "metadata": {},
      "execution_count": null,
      "outputs": []
    },
    {
      "cell_type": "markdown",
      "source": "# What are variables in Python? How do you declare and assign values to variables? in short",
      "metadata": {}
    },
    {
      "cell_type": "code",
      "source": "Variables in Python are named containers for storing data. To declare and assign values to variables:\n\nDeclaration: Choose a name for the variable.\nAssignment: Use the equal sign (=) to assign a value to the variable.\n\n\nPython infers the data type from the assigned value, and variables can be reassigned with new values.",
      "metadata": {},
      "execution_count": null,
      "outputs": []
    },
    {
      "cell_type": "markdown",
      "source": "# Q Given a list my_list = [1, 2, 3, 4, 5], write the code to slice the list and obtain the sub-list [2, 3].",
      "metadata": {}
    },
    {
      "cell_type": "code",
      "source": "You can use slicing to obtain the sub-list [2, 3] from the list my_list. In Python, list slicing is done using square brackets [], specifying the start and end indices of the sub-list you want. Here's the code to achieve this:\n\nmy_list = [1, 2, 3, 4, 5]\n\n# Using slicing to get the sub-list [2, 3]\nsub_list = my_list[1:3]\n\nprint(sub_list)\n",
      "metadata": {},
      "execution_count": null,
      "outputs": []
    },
    {
      "cell_type": "markdown",
      "source": "### Q Declare a variable named price and assign the value 9.99 to it. What data type does this variable\n",
      "metadata": {}
    },
    {
      "cell_type": "code",
      "source": " when you declare a variable named price and assign the value 9.99 to it, the variable price belongs to the data type \"float.\" A float is a numeric data type that represents real numbers with a decimal point. The value 9.99 is a floating-point number, and assigning it to price makes price a variable of type float. ",
      "metadata": {},
      "execution_count": null,
      "outputs": []
    },
    {
      "cell_type": "markdown",
      "source": "# Q  Given the string \"Hello, World!\", extract the substring \"World\".",
      "metadata": {}
    },
    {
      "cell_type": "code",
      "source": "# The original string\ntext = \"Hello, World!\"\n\n# Extracting the substring \"World\" using string slicing\nsubstring = text[7:12]\n\nprint(substring)  # Output: \"World\"",
      "metadata": {},
      "execution_count": null,
      "outputs": []
    },
    {
      "cell_type": "markdown",
      "source": "# Q  Create a variable named \"is_student\" and assign it a boolean value indicating whether you are",
      "metadata": {}
    },
    {
      "cell_type": "code",
      "source": "To create a variable named is_student and assign it a boolean value indicating whether you are currently a student or not, you can do the following: \n\nis_student = True  # If you are currently a student\n# OR\nis_student = False  # If you are not currently a student",
      "metadata": {},
      "execution_count": null,
      "outputs": []
    },
    {
      "cell_type": "markdown",
      "source": "# Q What is the correct way to declare a variable named age and assign the value 25 to it?",
      "metadata": {}
    },
    {
      "cell_type": "code",
      "source": "\nThe correct way to declare a variable named age and assign the value 25 to it in Python is as follows:\nage = 25",
      "metadata": {},
      "execution_count": null,
      "outputs": []
    },
    {
      "cell_type": "markdown",
      "source": "# q Create a variable named name and assign your full name to it as a string. How would you print the value of this variable?",
      "metadata": {}
    },
    {
      "cell_type": "code",
      "source": "name = \"mohit tankara\"\nprint(name)",
      "metadata": {},
      "execution_count": null,
      "outputs": []
    },
    {
      "cell_type": "markdown",
      "source": "# Q How do you convert one data type to another in Python?",
      "metadata": {}
    },
    {
      "cell_type": "code",
      "source": "age = \"35\"\nagereal = int(age)\nprint(type(agereal))",
      "metadata": {},
      "execution_count": null,
      "outputs": []
    },
    {
      "cell_type": "code",
      "source": "",
      "metadata": {},
      "execution_count": null,
      "outputs": []
    }
  ]
}