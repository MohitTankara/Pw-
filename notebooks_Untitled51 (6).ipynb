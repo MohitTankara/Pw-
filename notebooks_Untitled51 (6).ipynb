{
  "cells": [
    {
      "attachments": {},
      "cell_type": "markdown",
      "metadata": {},
      "source": [
        "# Q  What is Supervised learning ? list some example of supervised learning ."
      ]
    },
    {
      "cell_type": "code",
      "execution_count": null,
      "metadata": {
        "vscode": {
          "languageId": "python"
        }
      },
      "outputs": [],
      "source": [
        "Supervised learning is a type of machine learning in which a computer algorithm learns to make predictions or decisions based on labeled data. Labeled data is made up of previously known input variables (also known as features) and output variables (also known as labels). By analyzing patterns and relationships between input and output variables in labeled data, the algorithm learns to make predictions. Image and speech recognition, recommendation systems, and fraud detection are all examples of how supervised learning is used. The examples below will help explain what supervised learning is. 1- Voice Recognition 2- Email Filtering"
      ]
    },
    {
      "attachments": {},
      "cell_type": "markdown",
      "metadata": {},
      "source": [
        "# what is training data test data and validation data ? explain the importance"
      ]
    },
    {
      "cell_type": "code",
      "execution_count": null,
      "metadata": {
        "vscode": {
          "languageId": "python"
        }
      },
      "outputs": [],
      "source": [
        "Training Data: This is the dataset used to teach a machine learning model by exposing it to examples of inputs and their corresponding correct outputs. The model learns patterns from this data, adjusting its internal parameters to make accurate predictions.\n",
        "\n",
        "Importance: Training data is the foundation of the model's learning process. A diverse and representative training dataset helps the model learn various patterns and relationships, enabling it to make better predictions on new data.\n",
        "\n",
        "Validation Data: This separate dataset is used to fine-tune the model's settings and assess its performance during training. It's not used to update the model's parameters directly but helps prevent overfitting.\n",
        "\n",
        "Importance: Validation data aids in selecting optimal model configurations. By evaluating the model's performance on this data, we can adjust settings to ensure the model generalizes well to unseen data, making it more reliable.\n",
        "\n",
        "Test Data: This dataset is distinct from both training and validation data. It's used to assess the final performance of the trained model and provides an unbiased measure of its real-world predictions.\n",
        "\n",
        "Importance: Test data gives insight into how well the model performs on new, unseen data. Evaluating the model on test data helps us estimate its actual performance in practical scenarios, ensuring its reliability before deployment."
      ]
    },
    {
      "attachments": {},
      "cell_type": "markdown",
      "metadata": {},
      "source": [
        "# Q what is the difference between ai , ml and dl and ds? \n"
      ]
    },
    {
      "cell_type": "code",
      "execution_count": null,
      "metadata": {
        "vscode": {
          "languageId": "python"
        }
      },
      "outputs": [],
      "source": [
        "AI (Artificial Intelligence): Creating intelligent systems that mimic human thinking and decision-making.\n",
        "ML (Machine Learning): Teaching computers to learn from data and improve performance on tasks.\n",
        "DL (Deep Learning): A subset of ML using complex neural networks, great for tasks like image and speech recognition.\n",
        "DS (Data Science): Extracting insights from data using analysis, visualization, and ML techniques."
      ]
    },
    {
      "attachments": {},
      "cell_type": "markdown",
      "metadata": {},
      "source": [
        "# explain the following with an example :\n",
        "(1) Artifical intelligence \n"
      ]
    },
    {
      "cell_type": "code",
      "execution_count": null,
      "metadata": {
        "vscode": {
          "languageId": "python"
        }
      },
      "outputs": [],
      "source": []
    },
    {
      "attachments": {},
      "cell_type": "markdown",
      "metadata": {},
      "source": [
        "# (2) Machine learning "
      ]
    },
    {
      "cell_type": "code",
      "execution_count": null,
      "metadata": {
        "vscode": {
          "languageId": "python"
        }
      },
      "outputs": [],
      "source": [
        "Machine learning is a subset of artificial intelligence that involves training algorithms to learn from data and make predictions or decisions without being explicitly programmed for each task. Here's a brief example: Example: Spam Email Detection\n",
        "Imagine you want to build a spam email filter. Instead of manually creating rules for each spam email, you can use machine learning. You would provide the machine learning algorithm with a dataset of emails that are labeled as either \"spam\" or \"not spam.\" The algorithm then analyzes the features of these emails, such as keywords, sender information, and email structure."
      ]
    },
    {
      "attachments": {},
      "cell_type": "markdown",
      "metadata": {},
      "source": [
        "# (3) Deep learning \n"
      ]
    },
    {
      "cell_type": "code",
      "execution_count": null,
      "metadata": {
        "vscode": {
          "languageId": "python"
        }
      },
      "outputs": [],
      "source": [
        "Deep learning is a subset of machine learning that focuses on training artificial neural networks with multiple layers (deep architectures) to solve complex tasks. It's inspired by the structure and function of the human brain's interconnected neurons. Here's a concise example:\n",
        "\n",
        "Example: Image Recognition\n",
        "Let's say you want to create a system that can recognize different objects in images, like identifying cats, dogs, and cars. Deep learning can be used for this task. You would construct a deep neural network with multiple layers, where each layer processes and transforms the input data."
      ]
    },
    {
      "attachments": {},
      "cell_type": "markdown",
      "metadata": {},
      "source": [
        "# Q differnce between supervised learning ,unsupervised learning and semi - supervised learning? "
      ]
    },
    {
      "cell_type": "code",
      "execution_count": null,
      "metadata": {
        "vscode": {
          "languageId": "python"
        }
      },
      "outputs": [],
      "source": [
        "Supervised Learning: Uses labeled data to train models for prediction or classification tasks. Each data point has a known target label, guiding the model's learning process.\n",
        "\n",
        "Unsupervised Learning: Involves unlabeled data and focuses on finding patterns or structures within the data. It's used for tasks like clustering and dimensionality reduction.\n",
        "\n",
        "Semi-Supervised Learning: Utilizes a mix of labeled and unlabeled data. Labeled data guides the model's training, while unlabeled data helps improve generalization, especially when labeled data is limited."
      ]
    }
  ],
  "metadata": {
    "kernelspec": {
      "display_name": "",
      "name": ""
    },
    "language_info": {
      "name": ""
    },
    "widgets": {
      "application/vnd.jupyter.widget-state+json": {
        "state": {},
        "version_major": 2,
        "version_minor": 0
      }
    }
  },
  "nbformat": 4,
  "nbformat_minor": 4
}
